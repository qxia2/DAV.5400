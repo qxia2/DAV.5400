{
 "cells": [
  {
   "cell_type": "markdown",
   "metadata": {},
   "source": [
    "# Week 8 \"Regex\"\n",
    "\n",
    "## One good source to form your \"regex\" is :\n",
    "[regex101.com](https://regex101.com)\n",
    "\n",
    "Text data is often in need of “cleaning” and preparation before it can be effectively used for analysis purposes. Consider the following poorly formatted text string containing names and phone numbers of some residents of the town of Springfield: \"555-1239Moe Szyslak(636) 555-0113Burns, C. Montgomery555 -6542Rev. Timothy Lovejoy555 8904Ned Flanders636-555-3226Simpson, Homer5553642Dr. Julius Hibbert\"\n",
    "\n",
    "Use your Python regular expression (“regex”) skills to complete the following tasks:\n",
    "\n",
    "1. Extract the names of each individual from the unformatted text string and store them in a vector of some sort. When complete, your vector should contain the following entries: \"Moe Szyslak\" \"Burns, C. Montgomery\" \"Rev. Timothy Lovejoy\" \"Ned Flanders\" \"Simpson,Homer\" \"Dr. Julius Hibbert\"\n",
    "\n",
    "## Answer:\n",
    "First of all, import \"re\" library and create a text contains the list shows on the first block. After observation, I found that the list contains integers, notions, strings, and white space. One way to extract the names from this list is to extract all strings, notions, and whitespace and compiled in a certain formation. The steps could be:\n",
    "1. Create a \"pattern\" with the regex \"r'[A-Z,.\\s]+[\\sA-Z]'\" \n",
    "2. Use the \"re.IGNORECASE\" function to make regex case-insensitive\n",
    "3. Create a \"regex\" to compile the strings, notions, and whitespace based on certain format.\n",
    "4. Use \"findall\" function to extract the names from the list.\n",
    "\n",
    "The regex can be interpreted as:\n",
    "1. Find the strings from A to Z, find the comma, and find the whitespace for the first block.\n",
    "2. Find the strings from A to Z, find the dot, and find the whitespace for the second block.\n",
    "3. Find the strings from A to Z for the last block.\n",
    "4. Use \"+\"  to format three blocks as the names we normally use.\n",
    "\n",
    "In addtion if you don't want use the \"re,IGNORECASE\" funtion, you can form your regex as regex = r'[A-Za-z,]+[\\sA-Za-z.]+[\\sA-Za-z]'.\n"
   ]
  },
  {
   "cell_type": "code",
   "execution_count": 2,
   "metadata": {},
   "outputs": [
    {
     "name": "stdout",
     "output_type": "stream",
     "text": [
      "555-1239Moe Szyslak(636) 555-0113Burns, C. Montgomery555 -6542Rev. Timothy Lovejoy555 8904Ned Flanders636-555-3226Simpson, Homer5553642Dr. Julius Hibbert\n"
     ]
    }
   ],
   "source": [
    "# First import re function.\n",
    "import re\n",
    "\n",
    "# Create a text contains the uncleaned information.\n",
    "\n",
    "text = \"555-1239Moe Szyslak(636) 555-0113Burns, C. Montgomery555 -6542Rev. Timothy Lovejoy555 8904Ned Flanders636-555-3226Simpson, Homer5553642Dr. Julius Hibbert\"\n",
    "\n",
    "# Test the text.\n",
    "print(text )   "
   ]
  },
  {
   "cell_type": "code",
   "execution_count": 39,
   "metadata": {
    "scrolled": true
   },
   "outputs": [
    {
     "data": {
      "text/plain": [
       "['Moe Szyslak',\n",
       " 'Burns, C. Montgomery',\n",
       " 'Rev. Timothy Lovejoy',\n",
       " 'Ned Flanders',\n",
       " 'Simpson, Homer',\n",
       " 'Dr. Julius Hibbert']"
      ]
     },
     "execution_count": 39,
     "metadata": {},
     "output_type": "execute_result"
    }
   ],
   "source": [
    "# Create a Pattern to extract the string from the text\n",
    "pattern = r'[A-Z,.\\s]+[\\sA-Z]'\n",
    "# re.IGNORECASE makes the regex case-insensitive\n",
    "regex = re.compile(pattern, flags=re.IGNORECASE)\n",
    "\n",
    "# Using \"findall\" on the text produces a list of the email addresses\n",
    "t1 = regex.findall(text)\n",
    "t1"
   ]
  },
  {
   "cell_type": "markdown",
   "metadata": {},
   "source": [
    "2. Using your new vector containing only the names of the six individuals, complete the following tasks: \n",
    "\n",
    "      **a.** Use your regex skills to rearrange the vector so that all elements conform to the standard “firstname lastname”, preserving any titles (e.g., “Rev.”, “Dr.”, etc) or middle/second names. \n",
    "      \n",
    "      There are two steps to this question. First use the \"re.split\" function to split the name into two part base on the \"', '\" condition. Since there are two names contains \"', '\", these two names have been divided into two part while rest names are not be affected. The second step is to use the \"re.strip\" function and for loop to reverse the position of the parts. The for loop show that for all items in the nv(new vector created in the first part) if the length of i greater than 1 than format as \"i[1]+' '+ i[0]\", else use \"strip\" function to take off the whitespace.   \n",
    "\n",
    "      **b.** Construct a logical vector indicating whether a character has a title (i.e., Rev. and Dr.). \n",
    "      \n",
    "      For this question, we need to import the pandas and change the name list we made in the last question into the series. Then, we can use the str.match function to detect wheater match the regex we write for the title. Therefore, the answer would shown as boolean. If the name contains title the answer would be True.\n",
    "\n",
    "      **c.** Construct a logical vector indicating whether a character has a middle/second name.\n",
    "      \n",
    "      Same as the question b. There we just need to write a regex that match the format of middle name."
   ]
  },
  {
   "cell_type": "code",
   "execution_count": 42,
   "metadata": {},
   "outputs": [
    {
     "data": {
      "text/plain": [
       "['Moe Szyslak',\n",
       " 'C. Montgomery Burns',\n",
       " 'Rev. Timothy Lovejoy',\n",
       " 'Ned Flanders',\n",
       " 'Homer Simpson',\n",
       " 'Dr. Julius Hibbert']"
      ]
     },
     "execution_count": 42,
     "metadata": {},
     "output_type": "execute_result"
    }
   ],
   "source": [
    "# Use the \"re.split\" function to eliminate the comma.\n",
    "nv = [re.split(', ', j) for j in t1]\n",
    "nv\n",
    "\n",
    "# Use the \"strip\" function and for loop to reverse the first name and lasr name. \n",
    "reverse = [i[1]+' '+ i[0] if len(i)>1 else str(i).strip(\"['']\") for i in nv]\n",
    "reverse"
   ]
  },
  {
   "cell_type": "code",
   "execution_count": 48,
   "metadata": {},
   "outputs": [
    {
     "data": {
      "text/plain": [
       "0    False\n",
       "1    False\n",
       "2     True\n",
       "3    False\n",
       "4    False\n",
       "5     True\n",
       "dtype: bool"
      ]
     },
     "execution_count": 48,
     "metadata": {},
     "output_type": "execute_result"
    }
   ],
   "source": [
    "# Import pandas\n",
    "import pandas as pd\n",
    "# Write a regex for title\n",
    "has_title =  '[A-Za-z]{2,3}\\\\.'\n",
    "# Change the reversed namelist to pandas Series\n",
    "name_list =pd.Series(reverse)\n",
    "# Wheather has title in the name will shown as boolean.\n",
    "name_list.str.match(has_title)"
   ]
  },
  {
   "cell_type": "code",
   "execution_count": 55,
   "metadata": {},
   "outputs": [
    {
     "data": {
      "text/plain": [
       "0    False\n",
       "1     True\n",
       "2    False\n",
       "3    False\n",
       "4    False\n",
       "5    False\n",
       "dtype: bool"
      ]
     },
     "execution_count": 55,
     "metadata": {},
     "output_type": "execute_result"
    }
   ],
   "source": [
    "# Write a regex for Middle name dectation.\n",
    "has_middle_name = '[A-Za-z]{1,1}\\\\.'\n",
    "# Test if the name contains middle name.\n",
    "name_list.str.match(has_middle_name)"
   ]
  },
  {
   "cell_type": "markdown",
   "metadata": {},
   "source": [
    "3. The reason \"<.+>\" doesn't work is this regex would detect the all the content in the HTML string mentioned. For example, I put the regex and the test string in the regex test webstie \"regex 101\", then I found that the whole string is match with the regex. Therefore, to extract the only \"< title >\" , we need to modify the regex as \"<[A-Za-z0-9-]+?>\"."
   ]
  },
  {
   "cell_type": "code",
   "execution_count": 77,
   "metadata": {},
   "outputs": [
    {
     "data": {
      "text/plain": [
       "'<title>'"
      ]
     },
     "execution_count": 77,
     "metadata": {},
     "output_type": "execute_result"
    }
   ],
   "source": [
    "# Import re\n",
    "import re\n",
    "# Write correct code\n",
    "pattern = r\"<[A-Za-z0-9-]+?>\"\n",
    "# Setup test\n",
    "test_str = \"<title>+++BREAKING NEWS+++<title>\"\n",
    "# Test.\n",
    "re.match(pattern,test_str).group()"
   ]
  },
  {
   "cell_type": "markdown",
   "metadata": {},
   "source": [
    "4. The reason that we cannot use the \"[^0-9=+*()]+\" to extract the string\"(5-3)^2=5^2-2*5*3+3^2\" is some notion in the string have other meaning or function in the regex. Therefore what I did is to enliminate these notions. The regex that I have come up with is \"pattern = r\"[^][]+\"\"."
   ]
  },
  {
   "cell_type": "code",
   "execution_count": 78,
   "metadata": {},
   "outputs": [
    {
     "data": {
      "text/plain": [
       "'(5-3)^2=5^2-2*5*3+3^2'"
      ]
     },
     "execution_count": 78,
     "metadata": {},
     "output_type": "execute_result"
    }
   ],
   "source": [
    "# Import re\n",
    "import re\n",
    "# Write correct code\n",
    "pattern = r\"[^][]+\"\n",
    "# Setup test\n",
    "test_str = \"(5-3)^2=5^2-2*5*3+3^2\"\n",
    "# Test.\n",
    "re.match(pattern,test_str).group()"
   ]
  }
 ],
 "metadata": {
  "kernelspec": {
   "display_name": "Python 3",
   "language": "python",
   "name": "python3"
  },
  "language_info": {
   "codemirror_mode": {
    "name": "ipython",
    "version": 3
   },
   "file_extension": ".py",
   "mimetype": "text/x-python",
   "name": "python",
   "nbconvert_exporter": "python",
   "pygments_lexer": "ipython3",
   "version": "3.7.1"
  }
 },
 "nbformat": 4,
 "nbformat_minor": 2
}
