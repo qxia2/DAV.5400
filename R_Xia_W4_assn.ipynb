{
 "cells": [
  {
   "cell_type": "markdown",
   "metadata": {},
   "source": [
    "# Week 4 Assignment\n",
    "## Q1"
   ]
  },
  {
   "cell_type": "code",
   "execution_count": 1,
   "metadata": {},
   "outputs": [
    {
     "data": {
      "text/plain": [
       "array([2, 4])"
      ]
     },
     "execution_count": 1,
     "metadata": {},
     "output_type": "execute_result"
    }
   ],
   "source": [
    "# First of all import the Numpy funcation\n",
    "\n",
    "import numpy as np\n",
    "\n",
    "# Create 'a' array\n",
    "\n",
    "a = np.array([1, 2, 3, 2, 3, 4, 3, 4, 5, 6])\n",
    "\n",
    "# Create 'b' array\n",
    "\n",
    "b = np.array([7, 2, 10, 2, 7, 4, 9, 4, 9, 8])\n",
    "\n",
    "# Create 'c' array which is the intersection of a and b\n",
    "\n",
    "c = np.intersect1d(a,b)\n",
    "\n",
    "c"
   ]
  },
  {
   "cell_type": "markdown",
   "metadata": {},
   "source": [
    "## Q2"
   ]
  },
  {
   "cell_type": "code",
   "execution_count": 2,
   "metadata": {},
   "outputs": [
    {
     "data": {
      "text/plain": [
       "array([[ 1,  6, 11],\n",
       "       [ 2,  7, 12],\n",
       "       [ 3,  8, 13],\n",
       "       [ 4,  9, 14],\n",
       "       [ 5, 10, 15]])"
      ]
     },
     "execution_count": 2,
     "metadata": {},
     "output_type": "execute_result"
    }
   ],
   "source": [
    "# For this question, we can use the arange() and reshape() function\n",
    "# Put the range into arange and 3 by 5 into reshape.\n",
    "\n",
    "d = np.arange(1,16).reshape(3,5)\n",
    "\n",
    "# Than use Transpose function\n",
    "\n",
    "d.T"
   ]
  },
  {
   "cell_type": "markdown",
   "metadata": {},
   "source": [
    "## Q3 "
   ]
  },
  {
   "cell_type": "code",
   "execution_count": 3,
   "metadata": {},
   "outputs": [
    {
     "data": {
      "text/plain": [
       "array([ 1,  7,  8, 15])"
      ]
     },
     "execution_count": 3,
     "metadata": {},
     "output_type": "execute_result"
    }
   ],
   "source": [
    "# Create array a\n",
    "a = np.array([12, 5, 7, 15, 3, 1, 8])\n",
    "\n",
    "# Creare array b\n",
    "b = np.array([14, 6, 3, 11, 19, 12, 5])\n",
    "\n",
    "# Use the \"setdiff1d\" to remove the value in array a that also in array b \n",
    "a = np.setdiff1d(a,b)\n",
    "\n",
    "# print a to check out if correct.\n",
    "a\n"
   ]
  },
  {
   "cell_type": "markdown",
   "metadata": {},
   "source": [
    "## Q4"
   ]
  },
  {
   "cell_type": "code",
   "execution_count": 4,
   "metadata": {},
   "outputs": [
    {
     "name": "stdout",
     "output_type": "stream",
     "text": [
      "[  52  108  148  206  247  290  290  347  390  448  491  548  596  596\n",
      "  643  694  749  796  849  907  907  948 1001 1043 1096 1140 1191 1191\n",
      " 1231 1287 1343 1395 1451 1497 1548]\n",
      "[56 40 58 41 43  0 57 43 58 43 57 48  0 47 51 55 47 53 58  0 41 53 42 53\n",
      " 44 51  0 40 56 56 52 56 46 51]\n",
      "Spend 35 days totally.\n"
     ]
    }
   ],
   "source": [
    "# Create an array with range from 0 to 1548(miles)\n",
    "arr = np.random.randint(40,60,30,int)\n",
    "\n",
    "# Than create a trip list \n",
    "trip =[]\n",
    "\n",
    "# Write a break loop to pick number from 'arr' array and append into the 'trip' list\n",
    "\n",
    "for x in arr:\n",
    "    x = 0+x\n",
    "    trip.append(x)\n",
    "    if len(trip)==31:\n",
    "        break\n",
    "\n",
    "# Create 4 list. Manally insert 0(represent 0 miles) every 6 days \n",
    "cum_trip  = np.insert(trip,6,0)\n",
    "cum_trip1 = np.insert(cum_trip,13,0) \n",
    "cum_trip2 = np.insert(cum_trip1,20,0)  \n",
    "cum_trip3 = np.insert(cum_trip2,27,0)\n",
    "\n",
    "# Create a new array use cumsum funcation to accumulate the mileages\n",
    "cum_trip4 =np.cumsum(cum_trip3)\n",
    "\n",
    "# Create a new array to insert the last vaule to be the 1548 miles\n",
    "cum_trip_list = np.insert(cum_trip4,34,1548)\n",
    "\n",
    "# print the array to see if it meet the qualication.\n",
    "\n",
    "print(cum_trip_list)\n",
    "\n",
    "print(np.ediff1d(cum_trip_list))\n",
    "\n",
    "print(f'Spend {len(cum_trip_list)} days totally.')"
   ]
  },
  {
   "cell_type": "code",
   "execution_count": null,
   "metadata": {},
   "outputs": [],
   "source": []
  },
  {
   "cell_type": "markdown",
   "metadata": {},
   "source": [
    "## Q5"
   ]
  },
  {
   "cell_type": "code",
   "execution_count": 1,
   "metadata": {},
   "outputs": [
    {
     "name": "stderr",
     "output_type": "stream",
     "text": [
      "D:\\Anaconda\\lib\\site-packages\\ipykernel_launcher.py:10: FutureWarning: Method .as_matrix will be removed in a future version. Use .values instead.\n",
      "  # Remove the CWD from sys.path while we load stuff.\n"
     ]
    },
    {
     "data": {
      "text/plain": [
       "numpy.ndarray"
      ]
     },
     "execution_count": 1,
     "metadata": {},
     "output_type": "execute_result"
    }
   ],
   "source": [
    "# First import the CSV. file.\n",
    "\n",
    "import pandas\n",
    "import numpy as np\n",
    "\n",
    "# supress scientific notation\n",
    "np.set_printoptions(suppress = True)\n",
    "\n",
    "# read the data file from GitHub and convert to a NumPy ndarray object\n",
    "nyc_water = pandas.read_csv('https://raw.githubusercontent.com/jtopor/DAV-5400/master/Week4/Water_Consumption_In_The_New_York_City.csv').as_matrix()\n",
    "\n",
    "# verify you have an ndarray object\n",
    "type(nyc_water)"
   ]
  },
  {
   "cell_type": "code",
   "execution_count": 54,
   "metadata": {},
   "outputs": [
    {
     "name": "stdout",
     "output_type": "stream",
     "text": [
      "The maximum water consumption is: 1512 million gallons per day\n"
     ]
    }
   ],
   "source": [
    "# What is the maximum yearly NYC consumption of water in millions of gallons per day?\n",
    "# First use max function to see the maximum of each column\n",
    "\n",
    "water_consumption = np.max(nyc_water,axis = 0)\n",
    "\n",
    "# Form the website we know the 3rd column indicate the water comsuption.\n",
    "# Use slicing function to show the maximum water consumption.\n",
    "\n",
    "water_consumption[2]\n",
    "\n",
    "# Print the result.\n",
    "print(f'The maximum water consumption is: {int(water_consumption[2])} million gallons per day')"
   ]
  },
  {
   "cell_type": "code",
   "execution_count": 57,
   "metadata": {},
   "outputs": [
    {
     "name": "stdout",
     "output_type": "stream",
     "text": [
      "There are 39 calendar years are represented within this data set\n"
     ]
    }
   ],
   "source": [
    "# How many calendar years are represented within this data set?\n",
    "# Use the shape function the number of the rows could represent the number of years\n",
    "\n",
    "num_years = nyc_water.shape\n",
    "\n",
    "# Slicing the result\n",
    "num_years[0]\n",
    "\n",
    "# Print the result\n",
    "print(f'There are {num_years[0]} calendar years are represented within this data set')"
   ]
  },
  {
   "cell_type": "code",
   "execution_count": 62,
   "metadata": {},
   "outputs": [
    {
     "name": "stdout",
     "output_type": "stream",
     "text": [
      "The mean of Per Capita is 160.30769230769232, and the Standard deviation of Per Capita is 31.51894330370624\n"
     ]
    }
   ],
   "source": [
    "# What is the mean and the standard deviation of the per capita daily water consumption?\n",
    "# Use the mean function to check out the mean of each column\n",
    "\n",
    "mean_nyc_water = nyc_water.mean(axis=0)\n",
    "\n",
    "mean_nyc_water\n",
    "\n",
    "# Use the Std functionl to check out the standrad deviation of each column\n",
    "\n",
    "std_nyc_water = nyc_water.std(axis=0)\n",
    "\n",
    "std_nyc_water\n",
    "\n",
    "# Use slicing function to show the 4th the mean and std for 4th column(Per Capita)\n",
    "\n",
    "mean_nyc_water[3], std_nyc_water[3]\n",
    "\n",
    "# Print the result\n",
    "print(f'The mean of Per Capita is {mean_nyc_water[3]}, and the Standard deviation of Per Capita is {std_nyc_water[3]}')"
   ]
  },
  {
   "cell_type": "code",
   "execution_count": 10,
   "metadata": {},
   "outputs": [
    {
     "name": "stdout",
     "output_type": "stream",
     "text": [
      "[-30461.   17602.   19864.   72119.   53290.   39540.   45192.   23230.\n",
      "  11243.   -9544.   -8525.   38851.   54443.   77222.   64292.   62582.\n",
      "  64772.   75631.   84816.   89401.   60618.   16685.5  16685.5  16685.5\n",
      "  16685.5  16685.5  16685.5  16685.5  16685.5  16685.5  16685.5 108965.\n",
      "  77081.   61281.   49530.   44512.   21171.   85025. ]\n"
     ]
    }
   ],
   "source": [
    "# Use the diff function to show the differences between each elements in each column.\n",
    "\n",
    "pop_diff = np.diff(nyc_water, axis=0)\n",
    "\n",
    "pop_diff\n",
    "\n",
    "# Use slicing function to show the differences of 2nd column.\n",
    "print(pop_diff[:,1])"
   ]
  }
 ],
 "metadata": {
  "kernelspec": {
   "display_name": "Python 3",
   "language": "python",
   "name": "python3"
  },
  "language_info": {
   "codemirror_mode": {
    "name": "ipython",
    "version": 3
   },
   "file_extension": ".py",
   "mimetype": "text/x-python",
   "name": "python",
   "nbconvert_exporter": "python",
   "pygments_lexer": "ipython3",
   "version": "3.7.1"
  }
 },
 "nbformat": 4,
 "nbformat_minor": 2
}
