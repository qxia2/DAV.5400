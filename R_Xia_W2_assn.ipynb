{
 "cells": [
  {
   "cell_type": "markdown",
   "metadata": {},
   "source": [
    "# DAV5400 Week 2 Homework\n",
    "\n",
    "This homework cotains six tasks. Make sure run the program step by step."
   ]
  },
  {
   "cell_type": "markdown",
   "metadata": {},
   "source": [
    "# Task One"
   ]
  },
  {
   "cell_type": "code",
   "execution_count": 2,
   "metadata": {},
   "outputs": [
    {
     "name": "stdout",
     "output_type": "stream",
     "text": [
      "['high', 'high', '2', '4', 'med', 'low', 'unacc']\n",
      "['high', 'high', '4', 'more', 'small', 'high', 'acc']\n",
      "['high', 'high', '4', 'more', 'big', 'low', 'unacc']\n",
      "['high', 'low', '2', 'more', 'big', 'high', 'acc']\n",
      "['vhigh', 'low', '3', '2', 'med', 'med', 'unacc']\n",
      "['low', 'high', '2', '2', 'small', 'low', 'unacc']\n",
      "['med', 'med', '4', 'more', 'med', 'high', 'vgood']\n",
      "['low', 'low', '3', '2', 'big', 'med', 'unacc']\n",
      "['vhigh', 'low', '2', '2', 'small', 'low', 'unacc']\n",
      "['vhigh', 'high', '4', '4', 'med', 'low', 'unacc']\n",
      "['low', 'low', '2', '2', 'med', 'med', 'unacc']\n",
      "['vhigh', 'low', '4', 'more', 'small', 'high', 'acc']\n",
      "['high', 'low', '2', '4', 'big', 'med', 'acc']\n",
      "['low', 'vhigh', '3', 'more', 'big', 'low', 'unacc']\n",
      "['high', 'low', '5more', '2', 'big', 'med', 'unacc']\n",
      "['vhigh', 'high', '2', 'more', 'med', 'high', 'unacc']\n",
      "['med', 'med', '2', '2', 'small', 'low', 'unacc']\n",
      "['high', 'low', '5more', '4', 'med', 'high', 'acc']\n",
      "['low', 'low', '3', 'more', 'med', 'high', 'vgood']\n",
      "['low', 'low', '2', '2', 'big', 'med', 'unacc']\n",
      "['med', 'high', '4', '2', 'big', 'high', 'unacc']\n",
      "['low', 'low', '2', '2', 'small', 'high', 'unacc']\n",
      "['vhigh', 'high', '5more', '4', 'med', 'med', 'unacc']\n",
      "['med', 'vhigh', '2', '2', 'big', 'low', 'unacc']\n",
      "['low', 'vhigh', '4', '4', 'big', 'low', 'unacc']\n",
      "['vhigh', 'low', '3', 'more', 'big', 'low', 'unacc']\n",
      "['med', 'vhigh', '3', '4', 'small', 'low', 'unacc']\n",
      "['high', 'high', '3', '4', 'med', 'med', 'unacc']\n",
      "['low', 'high', '5more', '2', 'big', 'low', 'unacc']\n",
      "['med', 'high', '5more', '2', 'med', 'med', 'unacc']\n",
      "['high', 'low', '3', '4', 'med', 'high', 'acc']\n",
      "['high', 'vhigh', '5more', '4', 'med', 'med', 'unacc']\n",
      "['low', 'low', '5more', '2', 'med', 'low', 'unacc']\n",
      "['vhigh', 'vhigh', '4', '2', 'big', 'high', 'unacc']\n",
      "['high', 'low', '3', '2', 'big', 'high', 'unacc']\n"
     ]
    }
   ],
   "source": [
    "\n",
    "# First, import CSV file. I put my file under course file of my desktop.\n",
    "import csv\n",
    "with open('C:/Users/Randy/Desktop/cars-sample35.txt') as csvfile:\n",
    "    readCSV = csv.reader(csvfile)\n",
    "    for row in readCSV:\n",
    "        #print each row as read by the csv.reader function\n",
    "        print(row)\n"
   ]
  },
  {
   "cell_type": "code",
   "execution_count": 3,
   "metadata": {},
   "outputs": [
    {
     "name": "stdout",
     "output_type": "stream",
     "text": [
      "['high', 'high', 'high', 'high', 'vhigh', 'low', 'med', 'low', 'vhigh', 'vhigh', 'low', 'vhigh', 'high', 'low', 'high', 'vhigh', 'med', 'high', 'low', 'low', 'med', 'low', 'vhigh', 'med', 'low', 'vhigh', 'med', 'high', 'low', 'med', 'high', 'high', 'low', 'vhigh', 'high']\n"
     ]
    }
   ],
   "source": [
    "# First task \n",
    "Price =[] #create a empty list\n",
    "\n",
    "import csv # re-import csv file\n",
    "with open('C:/Users/Randy/Desktop/cars-sample35.txt') as csvfile:\n",
    "    readCSV = csv.reader(csvfile)\n",
    "    for row in readCSV:\n",
    "       Price.append(row[0])#instead of print row, append the first item in each row to Price list\n",
    "    \n",
    "\n",
    "\n",
    "\n",
    "print(Price)# print 'Prince list' to see if it is right.\n",
    "\n",
    "       \n"
   ]
  },
  {
   "cell_type": "code",
   "execution_count": 4,
   "metadata": {},
   "outputs": [
    {
     "name": "stdout",
     "output_type": "stream",
     "text": [
      "['high', 'high', 'high', 'low', 'low', 'high', 'med', 'low', 'low', 'high', 'low', 'low', 'low', 'vhigh', 'low', 'high', 'med', 'low', 'low', 'low', 'high', 'low', 'high', 'vhigh', 'vhigh', 'low', 'vhigh', 'high', 'high', 'high', 'low', 'vhigh', 'low', 'vhigh', 'low']\n"
     ]
    }
   ],
   "source": [
    "# First task\n",
    "Maintenance_cost = [] #create another empty list\n",
    "\n",
    "import csv # re-import csv file\n",
    "with open('C:/Users/Randy/Desktop/cars-sample35.txt') as csvfile:\n",
    "    readCSV = csv.reader(csvfile)\n",
    "    for row in readCSV:\n",
    "       Maintenance_cost.append(row[1])#instead of print row, append the second item in each row to Maintenance_cost list\n",
    "    \n",
    "\n",
    "\n",
    "\n",
    "print(Maintenance_cost)# print 'Maintenance_cost' to see if it is right."
   ]
  },
  {
   "cell_type": "code",
   "execution_count": 7,
   "metadata": {},
   "outputs": [
    {
     "name": "stdout",
     "output_type": "stream",
     "text": [
      "['2', '4', '4', '2', '3', '2', '4', '3', '2', '4', '2', '4', '2', '3', '5more', '2', '2', '5more', '3', '2', '4', '2', '5more', '2', '4', '3', '3', '3', '5more', '5more', '3', '5more', '5more', '4', '3']\n"
     ]
    }
   ],
   "source": [
    "# First task\n",
    "Number_of_doors = [] #create another empty list\n",
    "\n",
    "import csv # re-import csv file\n",
    "with open('C:/Users/Randy/Desktop/cars-sample35.txt') as csvfile:\n",
    "    readCSV = csv.reader(csvfile)\n",
    "    for row in readCSV:\n",
    "        Number_of_doors.append(row[2])#instead of print row, append the third item in each row to Number_of_doors list\n",
    "    \n",
    "\n",
    "\n",
    "\n",
    "print(Number_of_doors)# print 'Number_of_doors' to see if it is right."
   ]
  },
  {
   "cell_type": "code",
   "execution_count": 18,
   "metadata": {},
   "outputs": [
    {
     "name": "stdout",
     "output_type": "stream",
     "text": [
      "['4', 'more', 'more', 'more', '2', '2', 'more', '2', '2', '4', '2', 'more', '4', 'more', '2', 'more', '2', '4', 'more', '2', '2', '2', '4', '2', '4', 'more', '4', '4', '2', '2', '4', '4', '2', '2', '2']\n"
     ]
    }
   ],
   "source": [
    "# First task\n",
    "Number_of_passengers = [] #create another empty list\n",
    "\n",
    "import csv # re-import csv file\n",
    "with open('C:/Users/Randy/Desktop/cars-sample35.txt') as csvfile:\n",
    "    readCSV = csv.reader(csvfile)\n",
    "    for row in readCSV:\n",
    "       Number_of_passengers.append(row[3])#instead of print row, append the fourth item in each row to Number_of_passengers list\n",
    "    \n",
    "\n",
    "\n",
    "\n",
    "print(Number_of_passengers)# print 'Number_of_passengers' to see if it is right."
   ]
  },
  {
   "cell_type": "code",
   "execution_count": 9,
   "metadata": {},
   "outputs": [],
   "source": [
    "# First task\n",
    "# We can do the rest list at once and check the correction separately.\n",
    "# Create empthy list for rest headers\n",
    "\n",
    "Luggage_capacity = []\n",
    "Safety_rating = []\n",
    "Classification_of_vehicle = []\n",
    "\n",
    "import csv # re-import csv file\n",
    "with open('C:/Users/Randy/Desktop/cars-sample35.txt') as csvfile:\n",
    "    readCSV = csv.reader(csvfile)\n",
    "    for row in readCSV:\n",
    "        # append items of each row in matching list\n",
    "        Luggage_capacity.append(row[4])\n",
    "        Safety_rating.append(row[5])\n",
    "        Classification_of_vehicle.append(row[6])\n",
    "        \n",
    "       "
   ]
  },
  {
   "cell_type": "markdown",
   "metadata": {},
   "source": [
    "Now check if these list were made correctly."
   ]
  },
  {
   "cell_type": "code",
   "execution_count": 10,
   "metadata": {},
   "outputs": [
    {
     "name": "stdout",
     "output_type": "stream",
     "text": [
      "['med', 'small', 'big', 'big', 'med', 'small', 'med', 'big', 'small', 'med', 'med', 'small', 'big', 'big', 'big', 'med', 'small', 'med', 'med', 'big', 'big', 'small', 'med', 'big', 'big', 'big', 'small', 'med', 'big', 'med', 'med', 'med', 'med', 'big', 'big']\n"
     ]
    }
   ],
   "source": [
    "print(Luggage_capacity)"
   ]
  },
  {
   "cell_type": "code",
   "execution_count": 11,
   "metadata": {},
   "outputs": [
    {
     "name": "stdout",
     "output_type": "stream",
     "text": [
      "['low', 'high', 'low', 'high', 'med', 'low', 'high', 'med', 'low', 'low', 'med', 'high', 'med', 'low', 'med', 'high', 'low', 'high', 'high', 'med', 'high', 'high', 'med', 'low', 'low', 'low', 'low', 'med', 'low', 'med', 'high', 'med', 'low', 'high', 'high']\n"
     ]
    }
   ],
   "source": [
    "print(Safety_rating)"
   ]
  },
  {
   "cell_type": "code",
   "execution_count": 12,
   "metadata": {},
   "outputs": [
    {
     "name": "stdout",
     "output_type": "stream",
     "text": [
      "['unacc', 'acc', 'unacc', 'acc', 'unacc', 'unacc', 'vgood', 'unacc', 'unacc', 'unacc', 'unacc', 'acc', 'acc', 'unacc', 'unacc', 'unacc', 'unacc', 'acc', 'vgood', 'unacc', 'unacc', 'unacc', 'unacc', 'unacc', 'unacc', 'unacc', 'unacc', 'unacc', 'unacc', 'unacc', 'acc', 'unacc', 'unacc', 'unacc', 'unacc']\n"
     ]
    }
   ],
   "source": [
    "print(Classification_of_vehicle)"
   ]
  },
  {
   "cell_type": "markdown",
   "metadata": {},
   "source": [
    "# Task two"
   ]
  },
  {
   "cell_type": "code",
   "execution_count": 13,
   "metadata": {},
   "outputs": [
    {
     "data": {
      "text/plain": [
       "6"
      ]
     },
     "execution_count": 13,
     "metadata": {},
     "output_type": "execute_result"
    }
   ],
   "source": [
    "# First of all, count the number of 'med' in Price list\n",
    "Price.count('med')"
   ]
  },
  {
   "cell_type": "code",
   "execution_count": 16,
   "metadata": {},
   "outputs": [
    {
     "name": "stdout",
     "output_type": "stream",
     "text": [
      "[6, 16, 20, 23, 26, 29]\n"
     ]
    }
   ],
   "source": [
    "# create an empty list\n",
    "Price_index = [] \n",
    "\n",
    "# write a for loop to scan the 'med' in Price list then append to Price_index list\n",
    "for x in range(len(Price)):\n",
    "    if Price[x] =='med':\n",
    "        Price_index.append(x)\n",
    "\n",
    "# print the Price_index    \n",
    "print(Price_index)\n"
   ]
  },
  {
   "cell_type": "markdown",
   "metadata": {},
   "source": [
    "# Task three"
   ]
  },
  {
   "cell_type": "code",
   "execution_count": 19,
   "metadata": {},
   "outputs": [
    {
     "name": "stdout",
     "output_type": "stream",
     "text": [
      "['more', '2', '2', '2', '4', '2']\n"
     ]
    }
   ],
   "source": [
    "# create an empty list\n",
    "Med_nu_of_passengers = []\n",
    "\n",
    "#  Use the elements in Price_index as index, find the value in Number_of_passengers, and append to Med_nu_of_passengers \n",
    "for i in Price_index:\n",
    "    Med_nu_of_passengers.append(Number_of_passengers[i])\n",
    "\n",
    "# print the Med_nu_of_passengers\n",
    "print(Med_nu_of_passengers)"
   ]
  },
  {
   "cell_type": "markdown",
   "metadata": {},
   "source": [
    "# Task four"
   ]
  },
  {
   "cell_type": "code",
   "execution_count": 20,
   "metadata": {},
   "outputs": [
    {
     "name": "stdout",
     "output_type": "stream",
     "text": [
      "[0, 1, 2, 27, 31]\n"
     ]
    }
   ],
   "source": [
    "# create an empty list\n",
    "Price_high_maintenance_notlow = [] \n",
    "\n",
    "# write a for loop append the qualified index values intp new list. \n",
    "for a in range(len(Price)):\n",
    "#The point is that the index value should satify two conditions. So I use and clause.    \n",
    "    if Price[a] =='high'and Maintenance_cost[a]!='low':\n",
    "        Price_high_maintenance_notlow.append(a)\n",
    "    \n",
    "    \n",
    "\n",
    "# print Price_high_maintenance_notlow    \n",
    "print(Price_high_maintenance_notlow)\n"
   ]
  },
  {
   "cell_type": "markdown",
   "metadata": {},
   "source": [
    "# Task five"
   ]
  },
  {
   "cell_type": "code",
   "execution_count": 21,
   "metadata": {},
   "outputs": [
    {
     "name": "stdout",
     "output_type": "stream",
     "text": [
      "[3, 12, 19, 23]\n"
     ]
    }
   ],
   "source": [
    "# create an empty list\n",
    "Doors_luggages=[]\n",
    "\n",
    "# Do the same thing in the task four. Make sure 2 is not int but string.\n",
    "for b in range(len(Luggage_capacity)):\n",
    "    if Number_of_doors[b] =='2' and Luggage_capacity[b]=='big':\n",
    "        Doors_luggages.append(b)\n",
    "\n",
    "# print the Doors_luggages\n",
    "print(Doors_luggages)"
   ]
  },
  {
   "cell_type": "markdown",
   "metadata": {},
   "source": [
    "# Task six"
   ]
  },
  {
   "cell_type": "code",
   "execution_count": 22,
   "metadata": {},
   "outputs": [
    {
     "name": "stdout",
     "output_type": "stream",
     "text": [
      "[2, 4, 4, 2, 3, 2, 4, 3, 2, 4, 2, 4, 2, 3, 5, 2, 2, 5, 3, 2, 4, 2, 5, 2, 4, 3, 3, 3, 5, 5, 3, 5, 5, 4, 3]\n",
      "116\n",
      "3\n"
     ]
    }
   ],
   "source": [
    "# create an empty list\n",
    "Number_of_doors_copy = []\n",
    "\n",
    "# Make this new list the copy of Number_of_doors list\n",
    "for n in Number_of_doors:\n",
    "    Number_of_doors_copy.append(n)\n",
    "\n",
    "#find '5more' and replace to '5' in  Number_of_doors_copy\n",
    "#learn the method from https://stackoverflow.com/questions/2582138/finding-and-replacing-elements-in-a-list-python\n",
    "for n, i in enumerate(Number_of_doors_copy):\n",
    "    if i == '5more':\n",
    "        Number_of_doors_copy[n]='5'\n",
    "\n",
    "# create an empty list\n",
    "Number_of_doors_int =[]\n",
    "\n",
    "# Covert String in Numbers_of_doors_copy to int and append to Number_of_doors_int\n",
    "for x in Number_of_doors_copy:\n",
    "    Number_of_doors_int.append(int(x))\n",
    "\n",
    "# print Number_of_doors_int\n",
    "print(Number_of_doors_int)\n",
    "\n",
    "# Use sum function to know total number of doors\n",
    "numbersSum = sum(Number_of_doors_int)\n",
    "\n",
    "# print numbersSum knows that sum of doors is 116\n",
    "print(numbersSum)\n",
    "\n",
    "# Average doors equals the Sum of the doors divided by 35 autos\n",
    "Average_doors = numbersSum/len(Number_of_doors_int)\n",
    "\n",
    "print(int(Average_doors))\n"
   ]
  }
 ],
 "metadata": {
  "kernelspec": {
   "display_name": "Python 3",
   "language": "python",
   "name": "python3"
  },
  "language_info": {
   "codemirror_mode": {
    "name": "ipython",
    "version": 3
   },
   "file_extension": ".py",
   "mimetype": "text/x-python",
   "name": "python",
   "nbconvert_exporter": "python",
   "pygments_lexer": "ipython3",
   "version": "3.7.1"
  }
 },
 "nbformat": 4,
 "nbformat_minor": 2
}
