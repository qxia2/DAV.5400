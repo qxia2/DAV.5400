{
 "cells": [
  {
   "cell_type": "markdown",
   "metadata": {},
   "source": [
    "# The Story of My Dataset\n",
    "The [dataset](https://en.wikipedia.org/wiki/Data_set) that I am using is called *trump-approval-ratings approval_topline.csv*. I have pull this data set from the website of [**FiveThirtyEight**](https://data.fivethirtyeight.com/). The name of the related article is [*How popular Is Donald Trump*](https://projects.fivethirtyeight.com/trump-approval-ratings/). Although I am not a big fan of mordern politics, the current president of the United States [Donald Trump](http://en.wikipedia.org/wiki/Donald_Trump) can always draw my attetion from other things to the news that related to him. Although most of his political issues such as prevent the illegal immgrants, start the trade war with China, or cut the corporate taxes are controverial, some of his policies have already affect the economy of the country in a good way.\n",
    "\n",
    "As one of the international student who is from China, some of Trump's policies on the issue of immgrants and China may highly affect me. So that is why I want to use this dataset to see how the people of the united states view their president. In another word, I want to know whether the people of the United States support or oppose thier president's policies through the **approval ratings** of Donald Trump. \n",
    "\n",
    "The dataset I am using contains 10 different attributes and they are:\n",
    "* president, \n",
    "* subgroup, \n",
    "* modeldate \n",
    "* approve_estimate, \n",
    "* approve_hi, \n",
    "* approve_lo, \n",
    "* disapprove_estimate, \n",
    "* disapprove_hi, \n",
    "* disappove_lo, and \n",
    "* timestamp. \n",
    "\n",
    "I believe that the attributes in the middle should be used into my analysis. By use the function in Python such as **sum**, **count**, and **average**, I can get some intuitive fact from the data. Also, by compare the estimation  with the average of the high and low in both approve and disapprove column, I may understand the different between the people's expectation and realty in both approve and disapprove ratings. Moreover, by use the funcations such as **standard devation**, **mean**, or other statistical funcations, I may have chance to understand how confident of the accuracy of this dataset is. I may apply other funcations on this dataset to predicate whether Trump will gain the approves or lose approves in the future.\n",
    "\n",
    "Last but not the least, the link of my dataset is: \n",
    "\n",
    "https://github.com/qxia2/DAV.5400/blob/master/trump-approval-ratings%20approval_topline.csv. \n",
    "\n",
    "Everyboday are welcome to check it out and leave same suggestions or comments; so that, I can use my dataset more efficient.\n",
    "\n",
    "![Donlad Trump](https://upload.wikimedia.org/wikipedia/commons/5/56/Donald_Trump_official_portrait.jpg)"
   ]
  },
  {
   "cell_type": "code",
   "execution_count": null,
   "metadata": {},
   "outputs": [],
   "source": []
  }
 ],
 "metadata": {
  "kernelspec": {
   "display_name": "Python 3",
   "language": "python",
   "name": "python3"
  },
  "language_info": {
   "codemirror_mode": {
    "name": "ipython",
    "version": 3
   },
   "file_extension": ".py",
   "mimetype": "text/x-python",
   "name": "python",
   "nbconvert_exporter": "python",
   "pygments_lexer": "ipython3",
   "version": "3.7.1"
  }
 },
 "nbformat": 4,
 "nbformat_minor": 2
}
